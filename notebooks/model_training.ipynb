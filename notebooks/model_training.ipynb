{
 "cells": [
  {
   "cell_type": "code",
   "execution_count": 11,
   "id": "53b914f8-0774-4b1b-88a9-3dc43cbf5cdc",
   "metadata": {},
   "outputs": [],
   "source": [
    "from sklearn.datasets import load_iris\n",
    "import pandas as pd\n",
    "from sklearn.model_selection import train_test_split\n",
    "from sklearn.linear_model import LogisticRegression\n",
    "from sklearn.ensemble import RandomForestClassifier\n",
    "from sklearn.svm import SVC\n",
    "from sklearn.metrics import accuracy_score, f1_score, precision_score, recall_score, confusion_matrix\n",
    "import joblib\n",
    "import os\n",
    "import mlflow\n",
    "import mlflow.sklearn\n",
    "import matplotlib.pyplot as plt\n",
    "import seaborn as sns\n",
    "from sklearn.metrics import confusion_matrix"
   ]
  },
  {
   "cell_type": "code",
   "execution_count": 12,
   "id": "76ec284d",
   "metadata": {},
   "outputs": [
    {
     "name": "stderr",
     "output_type": "stream",
     "text": [
      "WARNING:root:Malformed experiment 'mlruns'. Detailed error Yaml file 'C:\\Users\\Ausaf raza\\mlops-assignment-1\\mlruns\\mlruns\\meta.yaml' does not exist.\n",
      "Traceback (most recent call last):\n",
      "  File \"C:\\Users\\Ausaf raza\\AppData\\Local\\Packages\\PythonSoftwareFoundation.Python.3.13_qbz5n2kfra8p0\\LocalCache\\local-packages\\Python313\\site-packages\\mlflow\\store\\tracking\\file_store.py\", line 367, in search_experiments\n",
      "    exp = self._get_experiment(exp_id, view_type)\n",
      "  File \"C:\\Users\\Ausaf raza\\AppData\\Local\\Packages\\PythonSoftwareFoundation.Python.3.13_qbz5n2kfra8p0\\LocalCache\\local-packages\\Python313\\site-packages\\mlflow\\store\\tracking\\file_store.py\", line 465, in _get_experiment\n",
      "    meta = FileStore._read_yaml(experiment_dir, FileStore.META_DATA_FILE_NAME)\n",
      "  File \"C:\\Users\\Ausaf raza\\AppData\\Local\\Packages\\PythonSoftwareFoundation.Python.3.13_qbz5n2kfra8p0\\LocalCache\\local-packages\\Python313\\site-packages\\mlflow\\store\\tracking\\file_store.py\", line 1635, in _read_yaml\n",
      "    return _read_helper(root, file_name, attempts_remaining=retries)\n",
      "  File \"C:\\Users\\Ausaf raza\\AppData\\Local\\Packages\\PythonSoftwareFoundation.Python.3.13_qbz5n2kfra8p0\\LocalCache\\local-packages\\Python313\\site-packages\\mlflow\\store\\tracking\\file_store.py\", line 1628, in _read_helper\n",
      "    result = read_yaml(root, file_name)\n",
      "  File \"C:\\Users\\Ausaf raza\\AppData\\Local\\Packages\\PythonSoftwareFoundation.Python.3.13_qbz5n2kfra8p0\\LocalCache\\local-packages\\Python313\\site-packages\\mlflow\\utils\\yaml_utils.py\", line 107, in read_yaml\n",
      "    raise MissingConfigException(f\"Yaml file '{file_path}' does not exist.\")\n",
      "mlflow.exceptions.MissingConfigException: Yaml file 'C:\\Users\\Ausaf raza\\mlops-assignment-1\\mlruns\\mlruns\\meta.yaml' does not exist.\n",
      "2025/09/18 21:26:38 INFO mlflow.tracking.fluent: Experiment with name 'iris_model_comparison' does not exist. Creating a new experiment.\n",
      "WARNING:root:Malformed experiment 'mlruns'. Detailed error Yaml file 'C:\\Users\\Ausaf raza\\mlops-assignment-1\\mlruns\\mlruns\\meta.yaml' does not exist.\n",
      "Traceback (most recent call last):\n",
      "  File \"C:\\Users\\Ausaf raza\\AppData\\Local\\Packages\\PythonSoftwareFoundation.Python.3.13_qbz5n2kfra8p0\\LocalCache\\local-packages\\Python313\\site-packages\\mlflow\\store\\tracking\\file_store.py\", line 367, in search_experiments\n",
      "    exp = self._get_experiment(exp_id, view_type)\n",
      "  File \"C:\\Users\\Ausaf raza\\AppData\\Local\\Packages\\PythonSoftwareFoundation.Python.3.13_qbz5n2kfra8p0\\LocalCache\\local-packages\\Python313\\site-packages\\mlflow\\store\\tracking\\file_store.py\", line 465, in _get_experiment\n",
      "    meta = FileStore._read_yaml(experiment_dir, FileStore.META_DATA_FILE_NAME)\n",
      "  File \"C:\\Users\\Ausaf raza\\AppData\\Local\\Packages\\PythonSoftwareFoundation.Python.3.13_qbz5n2kfra8p0\\LocalCache\\local-packages\\Python313\\site-packages\\mlflow\\store\\tracking\\file_store.py\", line 1635, in _read_yaml\n",
      "    return _read_helper(root, file_name, attempts_remaining=retries)\n",
      "  File \"C:\\Users\\Ausaf raza\\AppData\\Local\\Packages\\PythonSoftwareFoundation.Python.3.13_qbz5n2kfra8p0\\LocalCache\\local-packages\\Python313\\site-packages\\mlflow\\store\\tracking\\file_store.py\", line 1628, in _read_helper\n",
      "    result = read_yaml(root, file_name)\n",
      "  File \"C:\\Users\\Ausaf raza\\AppData\\Local\\Packages\\PythonSoftwareFoundation.Python.3.13_qbz5n2kfra8p0\\LocalCache\\local-packages\\Python313\\site-packages\\mlflow\\utils\\yaml_utils.py\", line 107, in read_yaml\n",
      "    raise MissingConfigException(f\"Yaml file '{file_path}' does not exist.\")\n",
      "mlflow.exceptions.MissingConfigException: Yaml file 'C:\\Users\\Ausaf raza\\mlops-assignment-1\\mlruns\\mlruns\\meta.yaml' does not exist.\n"
     ]
    },
    {
     "data": {
      "text/plain": [
       "<Experiment: artifact_location='file:///C:/Users/Ausaf raza/mlops-assignment-1/mlruns/868616821754101766', creation_time=1758212798089, experiment_id='868616821754101766', last_update_time=1758212798089, lifecycle_stage='active', name='iris_model_comparison', tags={}>"
      ]
     },
     "execution_count": 12,
     "metadata": {},
     "output_type": "execute_result"
    }
   ],
   "source": [
    "# ---------------------------\n",
    "# MLflow Centralized Setup\n",
    "# ---------------------------\n",
    "mlflow.set_tracking_uri(\"file:///C:/Users/Ausaf raza/mlops-assignment-1/mlruns\")\n",
    "mlflow.set_experiment(\"iris_model_comparison\")\n",
    "# ---------------------------"
   ]
  },
  {
   "cell_type": "code",
   "execution_count": 13,
   "id": "2469ca91-ed9c-44fb-b2e3-c4bb3d236a50",
   "metadata": {},
   "outputs": [],
   "source": [
    "# Ensure folders exist\n",
    "os.makedirs(\"../models\", exist_ok=True)\n",
    "os.makedirs(\"../results\", exist_ok=True)\n",
    "\n",
    "# Load dataset\n",
    "iris = load_iris()\n",
    "X = iris.data\n",
    "y = iris.target\n",
    "\n",
    "# Train-test split\n",
    "X_train, X_test, y_train, y_test = train_test_split(X, y, test_size=0.2, random_state=42)\n"
   ]
  },
  {
   "cell_type": "code",
   "execution_count": 14,
   "id": "8dcf77d8-0765-4ec4-bcd6-775f22033f68",
   "metadata": {},
   "outputs": [],
   "source": [
    "# Initialize models\n",
    "models = {\n",
    "    \"Logistic Regression\": LogisticRegression(max_iter=200),\n",
    "    \"Random Forest\": RandomForestClassifier(n_estimators=100, random_state=42),\n",
    "    \"SVM\": SVC(probability=True)  # probability=True for better logging/plots\n",
    "}"
   ]
  },
  {
   "cell_type": "code",
   "execution_count": 15,
   "id": "52bb9cc4-67c1-4f3b-9087-2688af9fd49c",
   "metadata": {},
   "outputs": [
    {
     "name": "stdout",
     "output_type": "stream",
     "text": [
      "Logistic Regression: Accuracy=1.000, F1=1.000, Precision=1.000, Recall=1.000\n"
     ]
    },
    {
     "name": "stderr",
     "output_type": "stream",
     "text": [
      "2025/09/18 21:26:41 WARNING mlflow.models.model: Model logged without a signature and input example. Please set `input_example` parameter when logging the model to auto infer the model signature.\n"
     ]
    },
    {
     "name": "stdout",
     "output_type": "stream",
     "text": [
      "Random Forest: Accuracy=1.000, F1=1.000, Precision=1.000, Recall=1.000\n"
     ]
    },
    {
     "name": "stderr",
     "output_type": "stream",
     "text": [
      "2025/09/18 21:26:45 WARNING mlflow.models.model: Model logged without a signature and input example. Please set `input_example` parameter when logging the model to auto infer the model signature.\n"
     ]
    },
    {
     "name": "stdout",
     "output_type": "stream",
     "text": [
      "SVM: Accuracy=1.000, F1=1.000, Precision=1.000, Recall=1.000\n"
     ]
    },
    {
     "name": "stderr",
     "output_type": "stream",
     "text": [
      "2025/09/18 21:26:48 WARNING mlflow.models.model: Model logged without a signature and input example. Please set `input_example` parameter when logging the model to auto infer the model signature.\n"
     ]
    }
   ],
   "source": [
    "\n",
    "for name, model in models.items():\n",
    "    with mlflow.start_run(run_name=name):\n",
    "        # Log model parameters\n",
    "        if hasattr(model, \"get_params\"):\n",
    "            mlflow.log_params(model.get_params())\n",
    "        \n",
    "        # Train\n",
    "        model.fit(X_train, y_train)\n",
    "        y_pred = model.predict(X_test)\n",
    "\n",
    "        # Metrics\n",
    "        acc = accuracy_score(y_test, y_pred)\n",
    "        f1 = f1_score(y_test, y_pred, average='weighted')\n",
    "        prec = precision_score(y_test, y_pred, average='weighted')\n",
    "        rec = recall_score(y_test, y_pred, average='weighted')\n",
    "\n",
    "        # Print\n",
    "        print(f\"{name}: Accuracy={acc:.3f}, F1={f1:.3f}, Precision={prec:.3f}, Recall={rec:.3f}\")\n",
    "\n",
    "        # Log metrics\n",
    "        mlflow.log_metric(\"accuracy\", acc)\n",
    "        mlflow.log_metric(\"f1_score\", f1)\n",
    "        mlflow.log_metric(\"precision\", prec)\n",
    "        mlflow.log_metric(\"recall\", rec)\n",
    "\n",
    "        # Save model locally\n",
    "        model_path = f\"../models/{name.replace(' ', '_').lower()}.pkl\"\n",
    "        joblib.dump(model, model_path)\n",
    "\n",
    "        # Log model to MLflow\n",
    "        mlflow.sklearn.log_model(model, name=\"model\")\n",
    "        \n",
    "        # Confusion Matrix\n",
    "        cm = confusion_matrix(y_test, y_pred)\n",
    "        plt.figure(figsize=(5,4))\n",
    "        sns.heatmap(cm, annot=True, fmt=\"d\", cmap=\"Blues\",\n",
    "                    xticklabels=iris.target_names,\n",
    "                    yticklabels=iris.target_names)\n",
    "        plt.title(f\"Confusion Matrix - {name}\")\n",
    "        plt.xlabel(\"Predicted\")\n",
    "        plt.ylabel(\"True\")\n",
    "        plot_path = f\"../results/{name.replace(' ', '_').lower()}_cm.png\"\n",
    "        plt.savefig(plot_path)\n",
    "        plt.close()\n",
    "\n",
    "        # Log confusion matrix to MLflow\n",
    "        mlflow.log_artifact(plot_path)"
   ]
  },
  {
   "cell_type": "code",
   "execution_count": 16,
   "id": "62929bb5-44d5-42f3-8a64-846e4ba227e1",
   "metadata": {},
   "outputs": [
    {
     "name": "stderr",
     "output_type": "stream",
     "text": [
      "Downloading artifacts: 100%|██████████| 7/7 [00:00<00:00, 432.71it/s]  \n",
      "Successfully registered model 'iris_best_model'.\n",
      "Created version '1' of model 'iris_best_model'.\n"
     ]
    },
    {
     "name": "stdout",
     "output_type": "stream",
     "text": [
      "Registered model 'iris_best_model' in MLflow Model Registry with confusion matrix artifact\n"
     ]
    }
   ],
   "source": [
    "\n",
    "# Assume Random Forest is best\n",
    "best_model = models[\"Random Forest\"]\n",
    "model_name = \"iris_best_model\"\n",
    "\n",
    "with mlflow.start_run(run_name=\"Best_Model_Registration\"):\n",
    "    # Log the model with name \n",
    "    input_example = X_test[:1] \n",
    "    mlflow.sklearn.log_model(\n",
    "        sk_model=best_model,\n",
    "        name=\"model\",\n",
    "        input_example=input_example,\n",
    "        registered_model_name=model_name  # registers in Model Registry\n",
    "    )\n",
    "\n",
    "    # Confusion Matrix Plot\n",
    "    y_pred = best_model.predict(X_test)\n",
    "    cm = confusion_matrix(y_test, y_pred)\n",
    "\n",
    "    plt.figure(figsize=(5,4))\n",
    "    sns.heatmap(cm, annot=True, fmt=\"d\", cmap=\"Blues\",\n",
    "                xticklabels=iris.target_names,\n",
    "                yticklabels=iris.target_names)\n",
    "    plt.title(f\"Confusion Matrix - {model_name}\")\n",
    "    plt.xlabel(\"Predicted\")\n",
    "    plt.ylabel(\"True\")\n",
    "\n",
    "    plot_path = \"../results/best_model_confusion_matrix.png\"\n",
    "    plt.savefig(plot_path)\n",
    "    plt.close()\n",
    "\n",
    "    # Log confusion matrix to MLflow\n",
    "    mlflow.log_artifact(plot_path)\n",
    "\n",
    "    print(f\"Registered model '{model_name}' in MLflow Model Registry with confusion matrix artifact\")\n"
   ]
  }
 ],
 "metadata": {
  "kernelspec": {
   "display_name": "Python 3",
   "language": "python",
   "name": "python3"
  },
  "language_info": {
   "codemirror_mode": {
    "name": "ipython",
    "version": 3
   },
   "file_extension": ".py",
   "mimetype": "text/x-python",
   "name": "python",
   "nbconvert_exporter": "python",
   "pygments_lexer": "ipython3",
   "version": "3.13.7"
  }
 },
 "nbformat": 4,
 "nbformat_minor": 5
}
